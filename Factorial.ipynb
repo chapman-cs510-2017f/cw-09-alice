{
 "cells": [
  {
   "cell_type": "markdown",
   "metadata": {
    "collapsed": false
   },
   "source": [
    "The algorithm being used is:\n",
    "    <ol><li> The function expects to take in an integer n, and assigns the value to a new int variable called fac\n",
    "    <li>It then creates a while loop where n is decremented, then multipled by fac. It does this until n reaches 1, then exits the loop.\n",
    "    <li>Then it returns the value of fac as an int\n",
    "\n",
    "Problem 1: with n>0, the while loop would run until n=1, and then as n was being decremented within the loop, fac was being multiplied by 0, which made the entire factorial output 0. We fixed this by changing the loop to run until n>1.\n",
    "\n",
    "Problem 2: factorial of 0 was being otuput as 0 because fac was not being multipled by anything (as the while loop wouldn't execut), and was assigned the value of n in the beginning. We changed this by adding an if, reassigning fac to =1 if n==0."
   ]
  },
  {
   "cell_type": "markdown",
   "metadata": {
    "collapsed": false
   },
   "source": [
   ]
  }
 ],
 "metadata": {
  "kernelspec": {
   "display_name": "Python 3 (Anaconda)",
   "language": "python",
   "name": "anaconda3"
  },
  "language_info": {
   "codemirror_mode": {
    "name": "ipython",
    "version": 3
   },
   "file_extension": ".py",
   "mimetype": "text/x-python",
   "name": "python",
   "nbconvert_exporter": "python",
   "pygments_lexer": "ipython3",
   "version": "3.5.4"
  }
 },
 "nbformat": 4,
 "nbformat_minor": 0
}
