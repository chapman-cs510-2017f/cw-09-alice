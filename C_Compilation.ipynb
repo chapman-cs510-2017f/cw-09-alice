{
 "cells": [
  {
   "cell_type": "code",
   "execution_count": 1,
   "metadata": {
    "collapsed": false
   },
   "outputs": [
    {
     "ename": "SyntaxError",
     "evalue": "invalid syntax (<ipython-input-1-d1b5643e6488>, line 1)",
     "output_type": "error",
     "traceback": [
      "\u001b[0;36m  File \u001b[0;32m\"<ipython-input-1-d1b5643e6488>\"\u001b[0;36m, line \u001b[0;32m1\u001b[0m\n\u001b[0;31m    ~/CS510/cw-09-alice-sharon-jet$ make test\u001b[0m\n\u001b[0m     ^\u001b[0m\n\u001b[0;31mSyntaxError\u001b[0m\u001b[0;31m:\u001b[0m invalid syntax\n"
     ]
    }
   ],
   "source": [
    "~/CS510/cw-09-alice-sharon-jet$ make test\n",
    "make -C test/ test\n",
    "make[1]: Entering directory '/home/user/CS510/cw-09-alice-sharon-jet/test'\n",
    "cc    -c -o ../src/factorial.o ../src/factorial.c\n",
    "cc     test_factorial.c ../src/factorial.o   -o test_factorial\n",
    "./test_factorial\n",
    "error, factorial(5) != 120\n",
    "Tests run: 1\n",
    "Makefile:11: recipe for target 'test' failed\n",
    "make[1]: *** [test] Error 1\n",
    "make[1]: Leaving directory '/home/user/CS510/cw-09-alice-sharon-jet/test'\n",
    "Makefile:20: recipe for target 'test' failed\n",
    "make: *** [test] Error 2\n"
   ]
  },
  {
   "cell_type": "code",
   "execution_count": 0,
   "metadata": {
    "collapsed": false
   },
   "outputs": [
   ],
   "source": [
    "The tests did not pass, but the code was compiled and the unit tests did run."
   ]
  },
  {
   "cell_type": "markdown",
   "metadata": {
    "collapsed": false
   },
   "source": [
    "<li> The purpose of a makefile is to contain and execute the instructions and order of creating different modules. It compiles and links any changed header or object files to the source file.\n",
    "\n",
    "<li> The first part indicates what the main target to build is. The second lists and builds any dependencies needed by the main target. The makefile is structured this way so that you can use precompiled files by just linking to them, recompiling them only if any changes have been made, saving time on compilation.\n",
    "    \n",
    "<li>A header file contains function declarations and so that multiple source files can use the same functions\n",
    "    \n",
    "<li>A source file is the main file containing the code for your program.\n",
    "    \n",
    "<li>An object file stores compiled symbols in machine code that is then linked to other binary programs.\n",
    "    \n",
    "<li>Compiling translates the source file containing c code into binary machine code that the computer can run.\n",
    "    \n",
    "<li>Linking is the creation of an executable file from multiple object files.\n"
   ]
  },
  {
   "cell_type": "code",
   "execution_count": 0,
   "metadata": {
    "collapsed": false
   },
   "outputs": [
   ],
   "source": [
   ]
  }
 ],
 "metadata": {
  "kernelspec": {
   "display_name": "Python 3 (Anaconda)",
   "language": "python",
   "name": "anaconda3"
  },
  "language_info": {
   "codemirror_mode": {
    "name": "ipython",
    "version": 3
   },
   "file_extension": ".py",
   "mimetype": "text/x-python",
   "name": "python",
   "nbconvert_exporter": "python",
   "pygments_lexer": "ipython3",
   "version": "3.5.4"
  }
 },
 "nbformat": 4,
 "nbformat_minor": 0
}